{
 "cells": [
  {
   "cell_type": "code",
   "execution_count": 92,
   "metadata": {},
   "outputs": [
    {
     "name": "stdout",
     "output_type": "stream",
     "text": [
      "C:\\Users\\andrewmauro\\Desktop\\springboard\\Project Excercises\\Baseball Data\n"
     ]
    }
   ],
   "source": [
    "%cd \"C:\\Users\\andrewmauro\\Desktop\\springboard\\Project Excercises\\Baseball Data\" "
   ]
  },
  {
   "cell_type": "markdown",
   "metadata": {},
   "source": [
    "# Initial Outline\n",
    "\n",
    "Did Yadier Molina improve his home run ability from 2016-2017?"
   ]
  },
  {
   "cell_type": "code",
   "execution_count": null,
   "metadata": {},
   "outputs": [],
   "source": [
    "#packages\n",
    "%matplotlib inline\n",
    "import pandas as pd\n",
    "import numpy as np\n",
    "import seaborn as sns\n",
    "from matplotlib import pyplot as plt\n",
    "import time\n",
    "import scipy.stats as stats\n",
    "import theano.tensor as tt\n",
    "import pymc3 as pm\n",
    "from IPython.core.pylabtools import figsize\n",
    "import math"
   ]
  },
  {
   "cell_type": "code",
   "execution_count": 94,
   "metadata": {},
   "outputs": [
    {
     "name": "stderr",
     "output_type": "stream",
     "text": [
      "C:\\Users\\andrewmauro\\AppData\\Local\\Continuum\\anaconda3\\lib\\site-packages\\numpy\\lib\\arraysetops.py:395: FutureWarning: elementwise comparison failed; returning scalar instead, but in the future will perform elementwise comparison\n",
      "  mask |= (ar1 == a)\n"
     ]
    },
    {
     "data": {
      "text/html": [
       "<div>\n",
       "<style>\n",
       "    .dataframe thead tr:only-child th {\n",
       "        text-align: right;\n",
       "    }\n",
       "\n",
       "    .dataframe thead th {\n",
       "        text-align: left;\n",
       "    }\n",
       "\n",
       "    .dataframe tbody tr th {\n",
       "        vertical-align: top;\n",
       "    }\n",
       "</style>\n",
       "<table border=\"1\" class=\"dataframe\">\n",
       "  <thead>\n",
       "    <tr style=\"text-align: right;\">\n",
       "      <th></th>\n",
       "      <th>pitch_type</th>\n",
       "      <th>game_date</th>\n",
       "      <th>release_speed</th>\n",
       "      <th>release_pos_x</th>\n",
       "      <th>release_pos_z</th>\n",
       "      <th>player_name</th>\n",
       "      <th>batter</th>\n",
       "      <th>pitcher</th>\n",
       "      <th>events</th>\n",
       "      <th>description</th>\n",
       "      <th>...</th>\n",
       "      <th>launch_angle_q3</th>\n",
       "      <th>launch_angle_q4</th>\n",
       "      <th>launch_speed_q1</th>\n",
       "      <th>launch_speed_q2</th>\n",
       "      <th>launch_speed_q3</th>\n",
       "      <th>launch_speed_q4</th>\n",
       "      <th>launch_speed_angle_q1</th>\n",
       "      <th>launch_speed_angle_q2</th>\n",
       "      <th>launch_speed_angle_q3</th>\n",
       "      <th>launch_speed_angle_q4</th>\n",
       "    </tr>\n",
       "  </thead>\n",
       "  <tbody>\n",
       "    <tr>\n",
       "      <th>2553</th>\n",
       "      <td>FF</td>\n",
       "      <td>2016-04-06</td>\n",
       "      <td>93.1</td>\n",
       "      <td>NaN</td>\n",
       "      <td>NaN</td>\n",
       "      <td>Yadier Molina</td>\n",
       "      <td>425877</td>\n",
       "      <td>458537</td>\n",
       "      <td>single</td>\n",
       "      <td>hit_into_play_no_out</td>\n",
       "      <td>...</td>\n",
       "      <td>0</td>\n",
       "      <td>0</td>\n",
       "      <td>0</td>\n",
       "      <td>0</td>\n",
       "      <td>1</td>\n",
       "      <td>0</td>\n",
       "      <td>1</td>\n",
       "      <td>0</td>\n",
       "      <td>0</td>\n",
       "      <td>0</td>\n",
       "    </tr>\n",
       "    <tr>\n",
       "      <th>2555</th>\n",
       "      <td>FF</td>\n",
       "      <td>2016-04-06</td>\n",
       "      <td>92.1</td>\n",
       "      <td>NaN</td>\n",
       "      <td>NaN</td>\n",
       "      <td>Yadier Molina</td>\n",
       "      <td>425877</td>\n",
       "      <td>458537</td>\n",
       "      <td>NaN</td>\n",
       "      <td>ball</td>\n",
       "      <td>...</td>\n",
       "      <td>0</td>\n",
       "      <td>0</td>\n",
       "      <td>0</td>\n",
       "      <td>0</td>\n",
       "      <td>0</td>\n",
       "      <td>0</td>\n",
       "      <td>0</td>\n",
       "      <td>0</td>\n",
       "      <td>0</td>\n",
       "      <td>0</td>\n",
       "    </tr>\n",
       "    <tr>\n",
       "      <th>3218</th>\n",
       "      <td>SL</td>\n",
       "      <td>2016-04-06</td>\n",
       "      <td>93.1</td>\n",
       "      <td>-3.0053</td>\n",
       "      <td>5.3632</td>\n",
       "      <td>Yadier Molina</td>\n",
       "      <td>425877</td>\n",
       "      <td>491708</td>\n",
       "      <td>field_out</td>\n",
       "      <td>hit_into_play</td>\n",
       "      <td>...</td>\n",
       "      <td>0</td>\n",
       "      <td>1</td>\n",
       "      <td>0</td>\n",
       "      <td>0</td>\n",
       "      <td>1</td>\n",
       "      <td>0</td>\n",
       "      <td>0</td>\n",
       "      <td>1</td>\n",
       "      <td>0</td>\n",
       "      <td>0</td>\n",
       "    </tr>\n",
       "    <tr>\n",
       "      <th>3232</th>\n",
       "      <td>FT</td>\n",
       "      <td>2016-04-06</td>\n",
       "      <td>101.4</td>\n",
       "      <td>-2.3629</td>\n",
       "      <td>5.2739</td>\n",
       "      <td>Yadier Molina</td>\n",
       "      <td>425877</td>\n",
       "      <td>491708</td>\n",
       "      <td>NaN</td>\n",
       "      <td>ball</td>\n",
       "      <td>...</td>\n",
       "      <td>0</td>\n",
       "      <td>0</td>\n",
       "      <td>0</td>\n",
       "      <td>0</td>\n",
       "      <td>0</td>\n",
       "      <td>0</td>\n",
       "      <td>0</td>\n",
       "      <td>0</td>\n",
       "      <td>0</td>\n",
       "      <td>0</td>\n",
       "    </tr>\n",
       "    <tr>\n",
       "      <th>3235</th>\n",
       "      <td>SI</td>\n",
       "      <td>2016-04-06</td>\n",
       "      <td>99.1</td>\n",
       "      <td>-2.6217</td>\n",
       "      <td>5.2589</td>\n",
       "      <td>Yadier Molina</td>\n",
       "      <td>425877</td>\n",
       "      <td>491708</td>\n",
       "      <td>NaN</td>\n",
       "      <td>called_strike</td>\n",
       "      <td>...</td>\n",
       "      <td>0</td>\n",
       "      <td>0</td>\n",
       "      <td>0</td>\n",
       "      <td>0</td>\n",
       "      <td>0</td>\n",
       "      <td>0</td>\n",
       "      <td>0</td>\n",
       "      <td>0</td>\n",
       "      <td>0</td>\n",
       "      <td>0</td>\n",
       "    </tr>\n",
       "  </tbody>\n",
       "</table>\n",
       "<p>5 rows × 100 columns</p>\n",
       "</div>"
      ],
      "text/plain": [
       "     pitch_type   game_date  release_speed  release_pos_x  release_pos_z  \\\n",
       "2553         FF  2016-04-06           93.1            NaN            NaN   \n",
       "2555         FF  2016-04-06           92.1            NaN            NaN   \n",
       "3218         SL  2016-04-06           93.1        -3.0053         5.3632   \n",
       "3232         FT  2016-04-06          101.4        -2.3629         5.2739   \n",
       "3235         SI  2016-04-06           99.1        -2.6217         5.2589   \n",
       "\n",
       "        player_name  batter  pitcher     events           description  \\\n",
       "2553  Yadier Molina  425877   458537     single  hit_into_play_no_out   \n",
       "2555  Yadier Molina  425877   458537        NaN                  ball   \n",
       "3218  Yadier Molina  425877   491708  field_out         hit_into_play   \n",
       "3232  Yadier Molina  425877   491708        NaN                  ball   \n",
       "3235  Yadier Molina  425877   491708        NaN         called_strike   \n",
       "\n",
       "              ...           launch_angle_q3  launch_angle_q4  launch_speed_q1  \\\n",
       "2553          ...                         0                0                0   \n",
       "2555          ...                         0                0                0   \n",
       "3218          ...                         0                1                0   \n",
       "3232          ...                         0                0                0   \n",
       "3235          ...                         0                0                0   \n",
       "\n",
       "      launch_speed_q2  launch_speed_q3 launch_speed_q4 launch_speed_angle_q1  \\\n",
       "2553                0                1               0                     1   \n",
       "2555                0                0               0                     0   \n",
       "3218                0                1               0                     0   \n",
       "3232                0                0               0                     0   \n",
       "3235                0                0               0                     0   \n",
       "\n",
       "     launch_speed_angle_q2 launch_speed_angle_q3 launch_speed_angle_q4  \n",
       "2553                     0                     0                     0  \n",
       "2555                     0                     0                     0  \n",
       "3218                     1                     0                     0  \n",
       "3232                     0                     0                     0  \n",
       "3235                     0                     0                     0  \n",
       "\n",
       "[5 rows x 100 columns]"
      ]
     },
     "execution_count": 94,
     "metadata": {},
     "output_type": "execute_result"
    }
   ],
   "source": [
    "batters = pd.read_csv(\"batters.csv\", index_col = 0)\n",
    "player = batters[batters[\"batter\"] == 425877]\n",
    "del batters\n",
    "\n",
    "#aim for even sample size\n",
    "player.head()"
   ]
  },
  {
   "cell_type": "code",
   "execution_count": 95,
   "metadata": {},
   "outputs": [
    {
     "data": {
      "text/html": [
       "<div>\n",
       "<style>\n",
       "    .dataframe thead tr:only-child th {\n",
       "        text-align: right;\n",
       "    }\n",
       "\n",
       "    .dataframe thead th {\n",
       "        text-align: left;\n",
       "    }\n",
       "\n",
       "    .dataframe tbody tr th {\n",
       "        vertical-align: top;\n",
       "    }\n",
       "</style>\n",
       "<table border=\"1\" class=\"dataframe\">\n",
       "  <thead>\n",
       "    <tr style=\"text-align: right;\">\n",
       "      <th></th>\n",
       "      <th>index</th>\n",
       "      <th>pitch_type</th>\n",
       "      <th>game_date</th>\n",
       "      <th>release_speed</th>\n",
       "      <th>release_pos_x</th>\n",
       "      <th>release_pos_z</th>\n",
       "      <th>player_name</th>\n",
       "      <th>batter</th>\n",
       "      <th>pitcher</th>\n",
       "      <th>events</th>\n",
       "      <th>...</th>\n",
       "      <th>launch_angle_q4</th>\n",
       "      <th>launch_speed_q1</th>\n",
       "      <th>launch_speed_q2</th>\n",
       "      <th>launch_speed_q3</th>\n",
       "      <th>launch_speed_q4</th>\n",
       "      <th>launch_speed_angle_q1</th>\n",
       "      <th>launch_speed_angle_q2</th>\n",
       "      <th>launch_speed_angle_q3</th>\n",
       "      <th>launch_speed_angle_q4</th>\n",
       "      <th>segment</th>\n",
       "    </tr>\n",
       "  </thead>\n",
       "  <tbody>\n",
       "    <tr>\n",
       "      <th>4275</th>\n",
       "      <td>1469355</td>\n",
       "      <td>FF</td>\n",
       "      <td>2018-04-10</td>\n",
       "      <td>85.2</td>\n",
       "      <td>2.8073</td>\n",
       "      <td>6.3244</td>\n",
       "      <td>Yadier Molina</td>\n",
       "      <td>425877</td>\n",
       "      <td>608718</td>\n",
       "      <td>NaN</td>\n",
       "      <td>...</td>\n",
       "      <td>0</td>\n",
       "      <td>0</td>\n",
       "      <td>0</td>\n",
       "      <td>0</td>\n",
       "      <td>0</td>\n",
       "      <td>0</td>\n",
       "      <td>0</td>\n",
       "      <td>0</td>\n",
       "      <td>0</td>\n",
       "      <td>50</td>\n",
       "    </tr>\n",
       "    <tr>\n",
       "      <th>4276</th>\n",
       "      <td>1470128</td>\n",
       "      <td>CH</td>\n",
       "      <td>2018-04-10</td>\n",
       "      <td>79.6</td>\n",
       "      <td>2.8432</td>\n",
       "      <td>6.5388</td>\n",
       "      <td>Yadier Molina</td>\n",
       "      <td>425877</td>\n",
       "      <td>608718</td>\n",
       "      <td>NaN</td>\n",
       "      <td>...</td>\n",
       "      <td>0</td>\n",
       "      <td>1</td>\n",
       "      <td>0</td>\n",
       "      <td>0</td>\n",
       "      <td>0</td>\n",
       "      <td>1</td>\n",
       "      <td>0</td>\n",
       "      <td>0</td>\n",
       "      <td>0</td>\n",
       "      <td>50</td>\n",
       "    </tr>\n",
       "    <tr>\n",
       "      <th>4277</th>\n",
       "      <td>1470107</td>\n",
       "      <td>FF</td>\n",
       "      <td>2018-04-10</td>\n",
       "      <td>84.8</td>\n",
       "      <td>2.7820</td>\n",
       "      <td>6.4276</td>\n",
       "      <td>Yadier Molina</td>\n",
       "      <td>425877</td>\n",
       "      <td>608718</td>\n",
       "      <td>NaN</td>\n",
       "      <td>...</td>\n",
       "      <td>0</td>\n",
       "      <td>0</td>\n",
       "      <td>0</td>\n",
       "      <td>0</td>\n",
       "      <td>0</td>\n",
       "      <td>0</td>\n",
       "      <td>0</td>\n",
       "      <td>0</td>\n",
       "      <td>0</td>\n",
       "      <td>50</td>\n",
       "    </tr>\n",
       "    <tr>\n",
       "      <th>4278</th>\n",
       "      <td>1469377</td>\n",
       "      <td>FF</td>\n",
       "      <td>2018-04-10</td>\n",
       "      <td>84.5</td>\n",
       "      <td>2.6523</td>\n",
       "      <td>6.4050</td>\n",
       "      <td>Yadier Molina</td>\n",
       "      <td>425877</td>\n",
       "      <td>608718</td>\n",
       "      <td>NaN</td>\n",
       "      <td>...</td>\n",
       "      <td>0</td>\n",
       "      <td>0</td>\n",
       "      <td>0</td>\n",
       "      <td>0</td>\n",
       "      <td>0</td>\n",
       "      <td>0</td>\n",
       "      <td>0</td>\n",
       "      <td>0</td>\n",
       "      <td>0</td>\n",
       "      <td>50</td>\n",
       "    </tr>\n",
       "    <tr>\n",
       "      <th>4279</th>\n",
       "      <td>1470139</td>\n",
       "      <td>CH</td>\n",
       "      <td>2018-04-10</td>\n",
       "      <td>79.1</td>\n",
       "      <td>2.7740</td>\n",
       "      <td>6.3566</td>\n",
       "      <td>Yadier Molina</td>\n",
       "      <td>425877</td>\n",
       "      <td>608718</td>\n",
       "      <td>NaN</td>\n",
       "      <td>...</td>\n",
       "      <td>0</td>\n",
       "      <td>0</td>\n",
       "      <td>0</td>\n",
       "      <td>0</td>\n",
       "      <td>0</td>\n",
       "      <td>0</td>\n",
       "      <td>0</td>\n",
       "      <td>0</td>\n",
       "      <td>0</td>\n",
       "      <td>50</td>\n",
       "    </tr>\n",
       "  </tbody>\n",
       "</table>\n",
       "<p>5 rows × 102 columns</p>\n",
       "</div>"
      ],
      "text/plain": [
       "        index pitch_type  game_date  release_speed  release_pos_x  \\\n",
       "4275  1469355         FF 2018-04-10           85.2         2.8073   \n",
       "4276  1470128         CH 2018-04-10           79.6         2.8432   \n",
       "4277  1470107         FF 2018-04-10           84.8         2.7820   \n",
       "4278  1469377         FF 2018-04-10           84.5         2.6523   \n",
       "4279  1470139         CH 2018-04-10           79.1         2.7740   \n",
       "\n",
       "      release_pos_z    player_name  batter  pitcher events   ...    \\\n",
       "4275         6.3244  Yadier Molina  425877   608718    NaN   ...     \n",
       "4276         6.5388  Yadier Molina  425877   608718    NaN   ...     \n",
       "4277         6.4276  Yadier Molina  425877   608718    NaN   ...     \n",
       "4278         6.4050  Yadier Molina  425877   608718    NaN   ...     \n",
       "4279         6.3566  Yadier Molina  425877   608718    NaN   ...     \n",
       "\n",
       "     launch_angle_q4  launch_speed_q1  launch_speed_q2  launch_speed_q3  \\\n",
       "4275               0                0                0                0   \n",
       "4276               0                1                0                0   \n",
       "4277               0                0                0                0   \n",
       "4278               0                0                0                0   \n",
       "4279               0                0                0                0   \n",
       "\n",
       "      launch_speed_q4  launch_speed_angle_q1 launch_speed_angle_q2  \\\n",
       "4275                0                      0                     0   \n",
       "4276                0                      1                     0   \n",
       "4277                0                      0                     0   \n",
       "4278                0                      0                     0   \n",
       "4279                0                      0                     0   \n",
       "\n",
       "     launch_speed_angle_q3 launch_speed_angle_q4 segment  \n",
       "4275                     0                     0      50  \n",
       "4276                     0                     0      50  \n",
       "4277                     0                     0      50  \n",
       "4278                     0                     0      50  \n",
       "4279                     0                     0      50  \n",
       "\n",
       "[5 rows x 102 columns]"
      ]
     },
     "execution_count": 95,
     "metadata": {},
     "output_type": "execute_result"
    }
   ],
   "source": [
    "#set sample\n",
    "sample = player.shape[0] / 50\n",
    "\n",
    "#read\n",
    "#player = pd.read_csv(\"rendon.csv\", index_col = False)\n",
    "\n",
    "#game date\n",
    "player['game_date'] = pd.to_datetime(player['game_date'], format = '%Y/%m/%d')\n",
    "\n",
    "#row count\n",
    "#reset index\n",
    "player = player.sort_values('game_date')\n",
    "player = player.reset_index()\n",
    "player['segment'] = player.index + 1\n",
    "player['segment'] = player['segment'] / sample\n",
    "player['segment'] = player['segment'].transform('ceil').astype('int')\n",
    "\n",
    "player.tail()\n"
   ]
  },
  {
   "cell_type": "code",
   "execution_count": 96,
   "metadata": {
    "collapsed": true
   },
   "outputs": [],
   "source": [
    "player = player[[\n",
    "#general descrip\n",
    "'game_year',\n",
    "'game_date',\n",
    "'segment',\n",
    "'player_name',\n",
    "'batter',\n",
    "'stand',\n",
    "'description',\n",
    "'des',\n",
    "'events',\n",
    "\n",
    "#batted general\n",
    "'type',\n",
    "'hit_location',\n",
    "'bb_type',\n",
    "'barrel',\n",
    "\n",
    "#batted physics\n",
    "'hc_x',\n",
    "'hc_y',\n",
    "'hit_distance_sc',\n",
    "'launch_speed',\n",
    "'launch_angle',\n",
    "'launch_speed_angle',\n",
    "\n",
    "#batted quartiles\n",
    "'launch_angle_q1',\n",
    "'launch_angle_q2',\n",
    "'launch_angle_q3',\n",
    "'launch_angle_q4',\n",
    "\n",
    "'launch_speed_q1',\n",
    "'launch_speed_q2',\n",
    "'launch_speed_q3',\n",
    "'launch_speed_q4',\n",
    "    \n",
    "'launch_speed_angle_q1',\n",
    "'launch_speed_angle_q2',\n",
    "'launch_speed_angle_q3',\n",
    "'launch_speed_angle_q4',\n",
    "\n",
    "\n",
    "#pitcher\n",
    "'p_throws',\n",
    "'pitch_name'\n",
    "\n",
    "]]"
   ]
  },
  {
   "cell_type": "code",
   "execution_count": 97,
   "metadata": {},
   "outputs": [
    {
     "data": {
      "text/plain": [
       "array([nan, 'single', 'walk', 'strikeout', 'field_out', 'hit_by_pitch',\n",
       "       'grounded_into_double_play', 'force_out', 'double', 'double_play',\n",
       "       'triple', 'intent_walk', 'fielders_choice_out',\n",
       "       'caught_stealing_2b', 'home_run', 'field_error', 'sac_fly',\n",
       "       'other_out', 'fielders_choice', 'pickoff_1b',\n",
       "       'strikeout_double_play', 'sac_bunt', 'triple_play',\n",
       "       'sac_fly_double_play'], dtype=object)"
      ]
     },
     "execution_count": 97,
     "metadata": {},
     "output_type": "execute_result"
    }
   ],
   "source": [
    "player['events'].unique()"
   ]
  },
  {
   "cell_type": "code",
   "execution_count": 98,
   "metadata": {},
   "outputs": [
    {
     "data": {
      "text/plain": [
       "29"
      ]
     },
     "execution_count": 98,
     "metadata": {},
     "output_type": "execute_result"
    }
   ],
   "source": [
    "player['event'] = np.where((player['events'] == 'home_run'), #|\n",
    "                           #(player['events'] == 'triple') |\n",
    "                           #(player['events'] == 'double'), |\n",
    "                           1, 0)\n",
    "\n",
    "player['event'].sum()"
   ]
  },
  {
   "cell_type": "markdown",
   "metadata": {},
   "source": [
    "    Data appears ok based on the fact that total homers match expectation of 46 (2016 to 2018 4/10)"
   ]
  },
  {
   "cell_type": "code",
   "execution_count": 99,
   "metadata": {},
   "outputs": [],
   "source": [
    "summary = player.groupby('segment')[['event']].sum()\n",
    "\n",
    "summary['event'] = summary['event']"
   ]
  },
  {
   "cell_type": "code",
   "execution_count": 100,
   "metadata": {},
   "outputs": [
    {
     "data": {
      "image/png": "[encoded data removed]",
      "text/plain": [
       "<matplotlib.figure.Figure at 0x2afd06646a0>"
      ]
     },
     "metadata": {},
     "output_type": "display_data"
    }
   ],
   "source": [
    "figsize(12.5, 3.5)\n",
    "n_count_data = len(summary)\n",
    "plt.bar(np.arange(n_count_data), summary['event'], color=\"#348ABD\")\n",
    "plt.xlabel(\"Segment (109 At Bats)\")\n",
    "plt.ylabel(\"Count of Home Runs\")\n",
    "plt.title(\"Did Yadier Molina's Home Run Rate Change Over Tme?\")\n",
    "plt.xlim(0, n_count_data);\n",
    "plt.ylim(0, 5);"
   ]
  },
  {
   "cell_type": "markdown",
   "metadata": {},
   "source": [
    "## Model the Count of Home Runs\n",
    "\n",
    "A Poisson random variable is generally an appropriate model for count data, such as home runs. When we model a Poisson random variable, we seek to estimate a parameter lambda. We will also test whether there is any \"switchpoint\" observable in the data. Notice for instance how there appear to be more Home Runs occuring after segment 25 in our sample. \n",
    "\n",
    "Because of our switchpoint, we will actually look to make estimates of two lambda parameters, one before the switchpoint and one afterward. "
   ]
  },
  {
   "cell_type": "code",
   "execution_count": 101,
   "metadata": {},
   "outputs": [
    {
     "data": {
      "text/plain": [
       "numpy.float64"
      ]
     },
     "execution_count": 101,
     "metadata": {},
     "output_type": "execute_result"
    }
   ],
   "source": [
    "alpha = 1.0/summary.mean()[0]\n",
    "\n",
    "type(alpha)"
   ]
  },
  {
   "cell_type": "code",
   "execution_count": 102,
   "metadata": {},
   "outputs": [
    {
     "name": "stderr",
     "output_type": "stream",
     "text": [
      "INFO (theano.gof.compilelock): Waiting for existing lock by unknown process (I am process '23880')\n",
      "INFO (theano.gof.compilelock): To manually release the lock, delete C:\\Users\\andrewmauro\\AppData\\Local\\Theano\\compiledir_Windows-10-10.0.14393-SP0-Intel64_Family_6_Model_69_Stepping_1_GenuineIntel-3.6.3-64\\lock_dir\n"
     ]
    }
   ],
   "source": [
    "#a lambda paramter controls the distribution of a poisson random variable\n",
    "#the higher lambda is, the larger the average count value will be\n",
    "#takes a parameter, alpha, which controls its distribution\n",
    "#we wll suppose that lambda (average count) exhibits a exponential distribution\n",
    "#generally the expected value of lambda for such a distribution is 1/a\n",
    "#higher a, lower lambda\n",
    "\n",
    "with pm.Model() as model:\n",
    "    #set to expected value based on data observed\n",
    "    alpha = 1.0/summary.mean()[0]\n",
    "\n",
    "    #initiate lambda 1 and 2 random variables\n",
    "    lambda_1 = pm.Exponential(\"lambda_1\", alpha)\n",
    "    lambda_2 = pm.Exponential(\"lambda_2\", alpha)\n",
    "\n",
    "    tau = pm.DiscreteUniform(\"tau\", lower = 0, upper = n_count_data - 1)"
   ]
  },
  {
   "cell_type": "code",
   "execution_count": 103,
   "metadata": {
    "collapsed": true
   },
   "outputs": [],
   "source": [
    "with model:\n",
    "    #create an index to compare against each iteration of tau\n",
    "    idx = np.arange(n_count_data)\n",
    "    #deterministic variable lambda\n",
    "    lambda_ = pm.math.switch(tau > idx, lambda_1, lambda_2)"
   ]
  },
  {
   "cell_type": "code",
   "execution_count": 104,
   "metadata": {},
   "outputs": [
    {
     "name": "stderr",
     "output_type": "stream",
     "text": [
      "INFO (theano.gof.compilelock): Waiting for existing lock by unknown process (I am process '23880')\n",
      "INFO (theano.gof.compilelock): To manually release the lock, delete C:\\Users\\andrewmauro\\AppData\\Local\\Theano\\compiledir_Windows-10-10.0.14393-SP0-Intel64_Family_6_Model_69_Stepping_1_GenuineIntel-3.6.3-64\\lock_dir\n"
     ]
    }
   ],
   "source": [
    "#create a Poisson variable called observation.\n",
    "#we combine our data (count data), with our proposed data generation scheme (lambda_)\n",
    "with model:\n",
    "    observation = pm.Poisson(\"obs\", lambda_, observed = summary['event'])"
   ]
  },
  {
   "cell_type": "code",
   "execution_count": 105,
   "metadata": {},
   "outputs": [
    {
     "name": "stderr",
     "output_type": "stream",
     "text": [
      "Multiprocess sampling (2 chains in 2 jobs)\n",
      "CompoundStep\n",
      ">Metropolis: [tau]\n",
      ">Metropolis: [lambda_2_log__]\n",
      ">Metropolis: [lambda_1_log__]\n",
      "The number of effective samples is smaller than 10% for some parameters.\n",
      "Multiprocess sampling (2 chains in 2 jobs)\n",
      "CompoundStep\n",
      ">Metropolis: [tau]\n",
      ">Metropolis: [lambda_2_log__]\n",
      ">Metropolis: [lambda_1_log__]\n",
      "The number of effective samples is smaller than 10% for some parameters.\n"
     ]
    }
   ],
   "source": [
    "### Mysterious code to be explained in Chapter 3.\n",
    "with model:\n",
    "    step = pm.Metropolis()\n",
    "    trace = pm.sample(10000, tune=5000,step=step)\n",
    "    \n",
    "#using our model, we execute a \"learning step\" using Markov Chain Monte Carlo simulation\n",
    "#this will return thousands of random variables from the posterior distributions lambda 1 and lambda 2 and tau\n",
    "#then we can plot a histogram of what those distributions look like\n",
    "\n",
    "with model:\n",
    "    #define learning step\n",
    "    step = pm.Metropolis()\n",
    "    #return thousands of random variables from the posterior distributions of our variables of interest\n",
    "    trace = pm.sample(10000, tune = 5000, step = step)"
   ]
  },
  {
   "cell_type": "code",
   "execution_count": 106,
   "metadata": {
    "collapsed": true
   },
   "outputs": [],
   "source": [
    "##obtain the samples we created above for the purposes of plotting (below)\n",
    "lambda_1_samples = trace['lambda_1']\n",
    "lambda_2_samples = trace['lambda_2']\n",
    "tau_samples = trace['tau']"
   ]
  },
  {
   "cell_type": "code",
   "execution_count": 107,
   "metadata": {},
   "outputs": [
    {
     "data": {
      "image/png": "[encoded data removed]",
      "text/plain": [
       "<matplotlib.figure.Figure at 0x2afe55496a0>"
      ]
     },
     "metadata": {},
     "output_type": "display_data"
    }
   ],
   "source": [
    "figsize(12.5, 10)\n",
    "#histogram of the samples:\n",
    "\n",
    "ax = plt.subplot(311)\n",
    "ax.set_autoscaley_on(False)\n",
    "\n",
    "plt.hist(lambda_1_samples, histtype='stepfilled', bins=30, alpha=0.85,\n",
    "         label=\"posterior of $\\lambda_1$\", color=\"#A60628\", normed=True)\n",
    "plt.legend(loc=\"upper left\")\n",
    "plt.title(r\"\"\"Posterior distributions of the variables\n",
    "    $\\lambda_1,\\;\\lambda_2,\\;\\tau$\"\"\")\n",
    "plt.xlim([0, 10])\n",
    "plt.xlabel(\"$\\lambda_1$ value\")\n",
    "\n",
    "ax = plt.subplot(312)\n",
    "ax.set_autoscaley_on(False)\n",
    "plt.hist(lambda_2_samples, histtype='stepfilled', bins=30, alpha=0.85,\n",
    "         label=\"posterior of $\\lambda_2$\", color=\"#7A68A6\", normed=True)\n",
    "plt.legend(loc=\"upper left\")\n",
    "plt.xlim([0, 10])\n",
    "plt.xlabel(\"$\\lambda_2$ value\")\n",
    "\n",
    "plt.subplot(313)\n",
    "w = 1.0 / tau_samples.shape[0] * np.ones_like(tau_samples)\n",
    "plt.hist(tau_samples, bins=n_count_data, alpha=1,\n",
    "         label=r\"posterior of $\\tau$\",\n",
    "         color=\"#467821\", weights=w, rwidth=2.)\n",
    "plt.xticks(np.arange(n_count_data))\n",
    "\n",
    "plt.legend(loc=\"upper left\")\n",
    "plt.ylim([0, .75])\n",
    "plt.xlim([0, len(summary)-20])\n",
    "plt.xlabel(r\"$\\tau$ (in days)\")\n",
    "plt.ylabel(\"probability\");"
   ]
  },
  {
   "cell_type": "code",
   "execution_count": 108,
   "metadata": {
    "scrolled": true
   },
   "outputs": [
    {
     "data": {
      "image/png": "[encoded data removed]",
      "text/plain": [
       "<matplotlib.figure.Figure at 0x2aff5ed9278>"
      ]
     },
     "metadata": {},
     "output_type": "display_data"
    }
   ],
   "source": [
    "figsize(12.5, 5)\n",
    "N = tau_samples.shape[0]\n",
    "expected = np.zeros(n_count_data)\n",
    "for seg in range(0, n_count_data):\n",
    "    ix = seg < tau_samples\n",
    "    expected[seg] = (lambda_1_samples[ix].sum()\n",
    "                                   + lambda_2_samples[~ix].sum()) / N\n",
    "\n",
    "\n",
    "plt.plot(range(n_count_data), expected, lw=4, color=\"#E24A33\",\n",
    "         label=\"expected number of Home RUns\")\n",
    "plt.xlim(0, n_count_data)\n",
    "plt.xlabel(\"Day\")\n",
    "plt.ylabel(\"Expected # text-messages\")\n",
    "plt.title(\"Expected number of Home Runs\")\n",
    "plt.ylim(0, 10)\n",
    "plt.bar(np.arange(len(summary)), summary['event'], color=\"#348ABD\", alpha=0.65,\n",
    "        label=\"observed texts per day\")\n",
    "\n",
    "plt.legend(loc=\"upper left\");"
   ]
  },
  {
   "cell_type": "code",
   "execution_count": 109,
   "metadata": {},
   "outputs": [
    {
     "name": "stdout",
     "output_type": "stream",
     "text": [
      "mean 1:  1.29109080134\n",
      "mean 2:  1.77096212731\n"
     ]
    }
   ],
   "source": [
    "print(\"mean 1: \", lambda_1_samples.mean())\n",
    "print(\"mean 2: \", lambda_2_samples.mean())"
   ]
  },
  {
   "cell_type": "markdown",
   "metadata": {},
   "source": [
    "## Conclusion\n",
    "\n",
    "There is insuffucient evidence that Yadier Molina has improved his ability to hit home runs, based on the analysis above. Our analysis suggests that a window of greater than 50 ABs may be preferable for predicting home runs."
   ]
  }
 ],
 "metadata": {
  "kernelspec": {
   "display_name": "Python 3",
   "language": "python",
   "name": "python3"
  },
  "language_info": {
   "codemirror_mode": {
    "name": "ipython",
    "version": 3
   },
   "file_extension": ".py",
   "mimetype": "text/x-python",
   "name": "python",
   "nbconvert_exporter": "python",
   "pygments_lexer": "ipython3",
   "version": "3.6.4"
  }
 },
 "nbformat": 4,
 "nbformat_minor": 2
}
